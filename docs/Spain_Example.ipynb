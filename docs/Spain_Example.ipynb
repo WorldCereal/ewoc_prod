{
 "cells": [
  {
   "cell_type": "code",
   "execution_count": null,
   "id": "2e171d86",
   "metadata": {
    "scrolled": true
   },
   "outputs": [],
   "source": [
    "!pip install -e ."
   ]
  },
  {
   "cell_type": "code",
   "execution_count": null,
   "id": "104c2026",
   "metadata": {},
   "outputs": [],
   "source": [
    "from ewoc_work_plan.workplan import WorkPlan\n",
    "from pathlib import Path"
   ]
  },
  {
   "cell_type": "code",
   "execution_count": null,
   "id": "8edf1ea9",
   "metadata": {
    "scrolled": true
   },
   "outputs": [],
   "source": [
    "wp = WorkPlan(['30STG'], \"2018-11-05\", \"2019-11-02\", 'creodias', [False])"
   ]
  },
  {
   "cell_type": "code",
   "execution_count": null,
   "id": "d5624545",
   "metadata": {},
   "outputs": [],
   "source": [
    "wp.to_json(Path('/tmp/wp_spain.json'))"
   ]
  },
  {
   "cell_type": "code",
   "execution_count": null,
   "id": "ef088c4f",
   "metadata": {},
   "outputs": [],
   "source": [
    "wp2 = WorkPlan.load(Path('/tmp/wp_spain.json'))"
   ]
  },
  {
   "cell_type": "code",
   "execution_count": null,
   "id": "28e944d1",
   "metadata": {
    "scrolled": true
   },
   "outputs": [],
   "source": [
    "print(wp2)"
   ]
  },
  {
   "cell_type": "code",
   "execution_count": null,
   "id": "d6e16911",
   "metadata": {
    "scrolled": false
   },
   "outputs": [],
   "source": [
    "wp_reproc = wp2.reproc(\"world-cereal\", path = \"WORLDCEREAL_PREPROC/SPAIN/\")"
   ]
  },
  {
   "cell_type": "code",
   "execution_count": null,
   "id": "967a6f5c",
   "metadata": {},
   "outputs": [],
   "source": [
    "print(wp_reproc)"
   ]
  },
  {
   "cell_type": "code",
   "execution_count": null,
   "id": "ff95af97",
   "metadata": {},
   "outputs": [],
   "source": [
    "# wp_reproc.to_ewoc_db()"
   ]
  }
 ],
 "metadata": {
  "kernelspec": {
   "display_name": "Python 3",
   "language": "python",
   "name": "python3"
  },
  "language_info": {
   "codemirror_mode": {
    "name": "ipython",
    "version": 3
   },
   "file_extension": ".py",
   "mimetype": "text/x-python",
   "name": "python",
   "nbconvert_exporter": "python",
   "pygments_lexer": "ipython3",
   "version": "3.8.8"
  }
 },
 "nbformat": 4,
 "nbformat_minor": 5
}
